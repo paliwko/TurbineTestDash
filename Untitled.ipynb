{
 "cells": [
  {
   "cell_type": "code",
   "execution_count": 1,
   "id": "8f0fcf90-b7bc-425a-8ea5-b001373363f5",
   "metadata": {},
   "outputs": [],
   "source": [
    "import pandas as pd"
   ]
  },
  {
   "cell_type": "code",
   "execution_count": 8,
   "id": "303be580-4be1-4459-a89d-56f7591964fb",
   "metadata": {},
   "outputs": [
    {
     "data": {
      "application/vnd.jupyter.widget-view+json": {
       "model_id": "dc17c8450ea84259b918ca0408a99f7e",
       "version_major": 2,
       "version_minor": 0
      },
      "text/plain": [
       "MitoWidget(analysis_data_json='{\"analysisName\": \"id-fyjjmgpvcj\", \"analysisToReplay\": null, \"code\": [], \"stepSu…"
      ]
     },
     "metadata": {},
     "output_type": "display_data"
    }
   ],
   "source": [
    "import mitosheet\n",
    "mitosheet.sheet(analysis_to_replay=\"id-fyjjmgpvcj\")"
   ]
  },
  {
   "cell_type": "code",
   "execution_count": 35,
   "id": "f0dc8696-bf63-4f20-9b42-ab803a2e5ed2",
   "metadata": {},
   "outputs": [
    {
     "data": {
      "application/vnd.jupyter.widget-view+json": {
       "model_id": "3fcbfbea144e4f97a4a9a9d423a93f6a",
       "version_major": 2,
       "version_minor": 0
      },
      "text/plain": [
       "MitoWidget(analysis_data_json='{\"analysisName\": \"id-ehfarktuas\", \"analysisToReplay\": null, \"code\": [], \"stepSu…"
      ]
     },
     "metadata": {},
     "output_type": "display_data"
    }
   ],
   "source": [
    "import mitosheet\n",
    "mitosheet.sheet(analysis_to_replay=\"id-ehfarktuas\")"
   ]
  },
  {
   "cell_type": "code",
   "execution_count": null,
   "id": "2c8a22d8-4252-4377-9318-efb843f6bcb4",
   "metadata": {},
   "outputs": [],
   "source": [
    "from mitosheet import *; register_analysis(\"id-ehfarktuas\");\n",
    "    \n",
    "# Imported data_raw.csv\n",
    "import pandas as pd\n",
    "data_raw = pd.read_csv(r'data_raw.csv', encoding='latin-1')\n",
    "\n",
    "# Imported data_raw.csv\n",
    "import pandas as pd\n",
    "data_raw_1 = pd.read_csv(r'data_raw.csv', encoding='latin-1')\n",
    "\n",
    "# Changed Testman time to dtype datetime\n",
    "import pandas as pd\n",
    "data_raw_1['Testman time'] = pd.to_datetime(data_raw_1['Testman time'], format='%m-%d-%Y', errors='coerce')\n"
   ]
  },
  {
   "cell_type": "code",
   "execution_count": null,
   "id": "f3c51e7b-0ea9-4e00-a315-970cec03c9bb",
   "metadata": {},
   "outputs": [],
   "source": [
    "from mitosheet import *; register_analysis(\"id-fyjjmgpvcj\");\n",
    "    \n",
    "# Imported dane_raw.csv\n",
    "import pandas as pd\n",
    "dane_raw = pd.read_csv(r'dane_raw.csv', encoding='latin-1')\n",
    "\n",
    "# Sorted TimeUTC in ascending order\n",
    "dane_raw = dane_raw.sort_values(by='TimeUTC', ascending=True, na_position='first')\n"
   ]
  },
  {
   "cell_type": "code",
   "execution_count": 9,
   "id": "12776adb-2b84-4a5a-8d7c-692a55d4d9a7",
   "metadata": {},
   "outputs": [],
   "source": [
    "dane_raw = pd.read_csv(r'dane_raw.csv', encoding='latin-1')"
   ]
  },
  {
   "cell_type": "code",
   "execution_count": 10,
   "id": "54dfa06e-24bf-4d5d-b483-cc47a1a180be",
   "metadata": {},
   "outputs": [],
   "source": [
    "dane_raw = dane_raw.sort_values(by='TimeUTC', ascending=True, na_position='first')\n"
   ]
  },
  {
   "cell_type": "code",
   "execution_count": null,
   "id": "8345babe-f4ae-419f-8d6b-8b2c4641e2e7",
   "metadata": {},
   "outputs": [],
   "source": [
    "set1 = dane_raw.iloc[:,0:13]\n",
    "set1.reset_index(drop=True)\n"
   ]
  },
  {
   "cell_type": "code",
   "execution_count": 20,
   "id": "04e02981-165f-4e79-90ef-a7ce3174b404",
   "metadata": {},
   "outputs": [
    {
     "data": {
      "application/vnd.jupyter.widget-view+json": {
       "model_id": "59a53e7c95a9448f8e2d8d1615346460",
       "version_major": 2,
       "version_minor": 0
      },
      "text/plain": [
       "MitoWidget(analysis_data_json='{\"analysisName\": \"id-ccocahpbef\", \"analysisToReplay\": null, \"code\": [], \"stepSu…"
      ]
     },
     "metadata": {},
     "output_type": "display_data"
    }
   ],
   "source": [
    "import mitosheet\n",
    "mitosheet.sheet(set1.reset_index(drop=True), analysis_to_replay=\"id-ccocahpbef\")"
   ]
  },
  {
   "cell_type": "code",
   "execution_count": null,
   "id": "8bd8aeb5-772d-4966-9717-51e21dc28f01",
   "metadata": {},
   "outputs": [],
   "source": [
    "from mitosheet import *; register_analysis(\"id-ccocahpbef\");\n",
    "    \n",
    "# Deleted columns Unnamed: 0\n",
    "set1.reset_index(drop=True.drop(['Unnamed: 0'], axis=1, inplace=True)\n"
   ]
  },
  {
   "cell_type": "code",
   "execution_count": null,
   "id": "23556c25-b4a8-49d7-9f4a-5b313cdf1654",
   "metadata": {},
   "outputs": [],
   "source": [
    "from mitosheet import *; register_analysis(\"id-kyukazsnon\");\n",
    "    \n",
    "# Deleted columns Unnamed: 0\n",
    "set1.reset_index(drop=True.drop(['Unnamed: 0'], axis=1, inplace=True)\n"
   ]
  },
  {
   "cell_type": "code",
   "execution_count": null,
   "id": "b5bcf5d3-a91e-44ff-8036-f59005ee828d",
   "metadata": {},
   "outputs": [],
   "source": [
    "from mitosheet import *; register_analysis(\"id-dxfhbnrlke\");\n",
    "    \n",
    "# Deleted columns Unnamed: 0\n",
    "set1.reset_index(drop=True.drop(['Unnamed: 0'], axis=1, inplace=True)\n"
   ]
  },
  {
   "cell_type": "code",
   "execution_count": null,
   "id": "c72f3614-8370-4006-a193-50bc9d32458f",
   "metadata": {},
   "outputs": [],
   "source": [
    "set2 = dane_raw.iloc[:,13:]\n",
    "set2.reset_index(drop=True)"
   ]
  },
  {
   "cell_type": "code",
   "execution_count": 25,
   "id": "05fa8d99-d236-4f89-88ad-10d7e51e7e98",
   "metadata": {},
   "outputs": [
    {
     "data": {
      "application/vnd.jupyter.widget-view+json": {
       "model_id": "8bc9e8e2862b44eda59d011797bad92d",
       "version_major": 2,
       "version_minor": 0
      },
      "text/plain": [
       "MitoWidget(analysis_data_json='{\"analysisName\": \"id-aukmisprwp\", \"analysisToReplay\": null, \"code\": [], \"stepSu…"
      ]
     },
     "metadata": {},
     "output_type": "display_data"
    }
   ],
   "source": [
    "import mitosheet\n",
    "mitosheet.sheet(set2.reset_index(drop=True), analysis_to_replay=\"id-aukmisprwp\")"
   ]
  },
  {
   "cell_type": "code",
   "execution_count": null,
   "id": "eed1a514-141a-42ba-a369-a736471e5d5e",
   "metadata": {},
   "outputs": [],
   "source": [
    "from mitosheet import *; register_analysis(\"id-aukmisprwp\");\n",
    "    \n",
    "# Added column new-column-wlve\n",
    "set2.reset_index(drop=True.insert(1, 'new-column-wlve', 0)\n",
    "\n",
    "# Renamed columns TimeUTC\n",
    "set2.reset_index(drop=True.rename(columns={'new-column-wlve': 'TimeUTC'}, inplace=True)\n"
   ]
  },
  {
   "cell_type": "code",
   "execution_count": null,
   "id": "4dacfb11-ca0d-4c38-9822-c958c378fccf",
   "metadata": {},
   "outputs": [],
   "source": [
    "    set2['TimeUTC'] = set1[['TimeUTC']].copy()\n",
    "set2.reset_index(drop=True)"
   ]
  },
  {
   "cell_type": "code",
   "execution_count": 31,
   "id": "b4697ec2-f3fc-4250-bfc1-8086f69e06ab",
   "metadata": {},
   "outputs": [
    {
     "data": {
      "application/vnd.jupyter.widget-view+json": {
       "model_id": "1f7ecf94e56540939904182667ea0999",
       "version_major": 2,
       "version_minor": 0
      },
      "text/plain": [
       "MitoWidget(analysis_data_json='{\"analysisName\": \"id-xueelkfffj\", \"analysisToReplay\": null, \"code\": [], \"stepSu…"
      ]
     },
     "metadata": {},
     "output_type": "display_data"
    }
   ],
   "source": [
    "import mitosheet\n",
    "mitosheet.sheet(set2.reset_index(drop=True), analysis_to_replay=\"id-xueelkfffj\")"
   ]
  },
  {
   "cell_type": "code",
   "execution_count": null,
   "id": "cc2574cd-8dce-432d-a32a-4312a2b41c9f",
   "metadata": {},
   "outputs": [],
   "source": [
    "from mitosheet import *; register_analysis(\"id-xueelkfffj\");\n",
    "    \n",
    "# Reordered column TimeUTC\n",
    "set2.reset_index(drop=True_columns = [col for col in set2.reset_index(drop=True.columns if col != 'TimeUTC']\n",
    "set2.reset_index(drop=True_columns.insert(1, 'TimeUTC')\n",
    "set2.reset_index(drop=True = set2.reset_index(drop=True[set2.reset_index(drop=True_columns]\n",
    "\n",
    "# Reordered column TimeUTC\n",
    "set2.reset_index(drop=True_columns = [col for col in set2.reset_index(drop=True.columns if col != 'TimeUTC']\n",
    "set2.reset_index(drop=True_columns.insert(2, 'TimeUTC')\n",
    "set2.reset_index(drop=True = set2.reset_index(drop=True[set2.reset_index(drop=True_columns]\n",
    "\n",
    "# Changed Time to dtype timedelta\n",
    "set2.reset_index(drop=True['Time'] = pd.to_timedelta(set2.reset_index(drop=True['Time'], errors='coerce')\n",
    "\n",
    "# Changed TimeUTC to dtype datetime\n",
    "import pandas as pd\n",
    "set2.reset_index(drop=True['TimeUTC'] = pd.to_datetime(set2.reset_index(drop=True['TimeUTC'], unit='s', errors='coerce')\n"
   ]
  },
  {
   "cell_type": "code",
   "execution_count": null,
   "id": "dbd9430d-e9fe-496f-9c21-79fc0df85bbe",
   "metadata": {},
   "outputs": [],
   "source": [
    "set2"
   ]
  },
  {
   "cell_type": "code",
   "execution_count": 34,
   "id": "05f539f8-8472-4f43-93d0-ef07ce4aa9e3",
   "metadata": {},
   "outputs": [
    {
     "data": {
      "application/vnd.jupyter.widget-view+json": {
       "model_id": "314745edd4ea4b2087a461e6211dce18",
       "version_major": 2,
       "version_minor": 0
      },
      "text/plain": [
       "MitoWidget(analysis_data_json='{\"analysisName\": \"id-ynkjlilups\", \"analysisToReplay\": null, \"code\": [], \"stepSu…"
      ]
     },
     "metadata": {},
     "output_type": "display_data"
    }
   ],
   "source": [
    "import mitosheet\n",
    "mitosheet.sheet(set2, analysis_to_replay=\"id-ynkjlilups\")"
   ]
  },
  {
   "cell_type": "code",
   "execution_count": null,
   "id": "532dc09a-30bf-4235-b42e-f3d4b20b199c",
   "metadata": {},
   "outputs": [],
   "source": []
  },
  {
   "cell_type": "code",
   "execution_count": null,
   "id": "8664a3d3-8174-439e-94d9-eea00f7f431b",
   "metadata": {},
   "outputs": [],
   "source": []
  }
 ],
 "metadata": {
  "kernelspec": {
   "display_name": "Python 3 (ipykernel)",
   "language": "python",
   "name": "python3"
  },
  "language_info": {
   "codemirror_mode": {
    "name": "ipython",
    "version": 3
   },
   "file_extension": ".py",
   "mimetype": "text/x-python",
   "name": "python",
   "nbconvert_exporter": "python",
   "pygments_lexer": "ipython3",
   "version": "3.10.4"
  }
 },
 "nbformat": 4,
 "nbformat_minor": 5
}
